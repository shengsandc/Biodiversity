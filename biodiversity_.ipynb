{
 "cells": [
  {
   "cell_type": "markdown",
   "metadata": {},
   "source": [
    "# Introduction\n",
    "\n",
    "The goal of this project is to understand the conservation status of endangered species in National Parks by discovering the underlying pattern.\n",
    "\n",
    "We will scope, process, analyze, plot the data and try to explain the phenomenon we observed.\n",
    "\n",
    "Here are the questions we hope to answer via this project:\n",
    "- What is the distribution of conservation status for species and category?\n",
    "- Which cateogry of species has more conserved species?\n",
    "- Which National Park has more conserved species?\n",
    "- What are the species that can potentially be labelled as species of concern in the future?\n",
    "\n",
    "**Data source:**\n",
    "\n",
    "The data we imported is provided by [Codecademy.com](https://www.codecademy.com)."
   ]
  },
  {
   "cell_type": "markdown",
   "metadata": {},
   "source": [
    "## Scoping\n",
    "\n",
    "The scoping section will be segmented into four sections: goal, action, data, and analysis \n",
    "\n",
    "### Goal\n",
    "The goal of the current project is to understand the pattern of endangered species in National Parks by answing the followin questions:\n",
    "- What is the distribution of conservation status for species and category?\n",
    "- Which cateogry of species has more conserved species?\n",
    "- Which National Park has more conserved species?\n",
    "- What are the species that can potentially be labelled as species of concern in the future?\n",
    "\n",
    "### Action\n",
    "We will analyze exising data provided by Codecademy. Primarily, python would be the code for analysis. \n",
    "\n",
    "### Data\n",
    "There are two csv files given: \n",
    "- `observations`: the observation of species with location.\n",
    "- `species_info`: the basic information of species.\n",
    "\n",
    "### Analysis\n",
    "Descriptive analysis, inferential analysis, and data visualisation will be employed to answer the aforementioned questions."
   ]
  },
  {
   "cell_type": "markdown",
   "metadata": {},
   "source": [
    "## Import Modules"
   ]
  },
  {
   "cell_type": "code",
   "execution_count": 216,
   "metadata": {},
   "outputs": [],
   "source": [
    "import pandas as pd\n",
    "import os\n",
    "import numpy as np\n",
    "import sqlite3\n",
    "import matplotlib.pyplot as plt\n",
    "import seaborn as sns\n",
    "from scipy.stats import chi2_contingency\n",
    "from IPython.display import display, HTML"
   ]
  },
  {
   "cell_type": "markdown",
   "metadata": {},
   "source": [
    "## Load Files\n",
    "`observations.csv` and `species_info.csv` will be loaded via pandas as DataFrame, named as `observations` and `species_info`, respectively."
   ]
  },
  {
   "cell_type": "markdown",
   "metadata": {},
   "source": [
    "### observations\n",
    "The `observations.csv` contains information from recorded sightings of different species throughout the national parks in the past 7 days. The columns included are:\n",
    "\n",
    "- **scientific_name**: The scientific name of each species\n",
    "- **park_name**: The name of the National Park\n",
    "- **observations**: The number of observations in the past 7 days"
   ]
  },
  {
   "cell_type": "code",
   "execution_count": 217,
   "metadata": {},
   "outputs": [
    {
     "data": {
      "text/html": [
       "<div>\n",
       "<style scoped>\n",
       "    .dataframe tbody tr th:only-of-type {\n",
       "        vertical-align: middle;\n",
       "    }\n",
       "\n",
       "    .dataframe tbody tr th {\n",
       "        vertical-align: top;\n",
       "    }\n",
       "\n",
       "    .dataframe thead th {\n",
       "        text-align: right;\n",
       "    }\n",
       "</style>\n",
       "<table border=\"1\" class=\"dataframe\">\n",
       "  <thead>\n",
       "    <tr style=\"text-align: right;\">\n",
       "      <th></th>\n",
       "      <th>scientific_name</th>\n",
       "      <th>park_name</th>\n",
       "      <th>observations</th>\n",
       "    </tr>\n",
       "  </thead>\n",
       "  <tbody>\n",
       "    <tr>\n",
       "      <th>0</th>\n",
       "      <td>Vicia benghalensis</td>\n",
       "      <td>Great Smoky Mountains National Park</td>\n",
       "      <td>68</td>\n",
       "    </tr>\n",
       "    <tr>\n",
       "      <th>1</th>\n",
       "      <td>Neovison vison</td>\n",
       "      <td>Great Smoky Mountains National Park</td>\n",
       "      <td>77</td>\n",
       "    </tr>\n",
       "    <tr>\n",
       "      <th>2</th>\n",
       "      <td>Prunus subcordata</td>\n",
       "      <td>Yosemite National Park</td>\n",
       "      <td>138</td>\n",
       "    </tr>\n",
       "    <tr>\n",
       "      <th>3</th>\n",
       "      <td>Abutilon theophrasti</td>\n",
       "      <td>Bryce National Park</td>\n",
       "      <td>84</td>\n",
       "    </tr>\n",
       "    <tr>\n",
       "      <th>4</th>\n",
       "      <td>Githopsis specularioides</td>\n",
       "      <td>Great Smoky Mountains National Park</td>\n",
       "      <td>85</td>\n",
       "    </tr>\n",
       "  </tbody>\n",
       "</table>\n",
       "</div>"
      ],
      "text/plain": [
       "            scientific_name                            park_name  observations\n",
       "0        Vicia benghalensis  Great Smoky Mountains National Park            68\n",
       "1            Neovison vison  Great Smoky Mountains National Park            77\n",
       "2         Prunus subcordata               Yosemite National Park           138\n",
       "3      Abutilon theophrasti                  Bryce National Park            84\n",
       "4  Githopsis specularioides  Great Smoky Mountains National Park            85"
      ]
     },
     "execution_count": 217,
     "metadata": {},
     "output_type": "execute_result"
    }
   ],
   "source": [
    "observations = pd.read_csv('observations.csv')\n",
    "observations.head()"
   ]
  },
  {
   "cell_type": "markdown",
   "metadata": {},
   "source": [
    "### species_info\n",
    "The `species_info.csv` contains information on the different species in the National Parks. The columns in the data set include:\n",
    "\n",
    "- **category** - The category of taxonomy for each species\n",
    "- **scientific_name** - The scientific name of each species\n",
    "- **common_names** - The common names of each species\n",
    "- **conservation_status** - The conservation status of each species"
   ]
  },
  {
   "cell_type": "code",
   "execution_count": 218,
   "metadata": {},
   "outputs": [
    {
     "data": {
      "text/html": [
       "<div>\n",
       "<style scoped>\n",
       "    .dataframe tbody tr th:only-of-type {\n",
       "        vertical-align: middle;\n",
       "    }\n",
       "\n",
       "    .dataframe tbody tr th {\n",
       "        vertical-align: top;\n",
       "    }\n",
       "\n",
       "    .dataframe thead th {\n",
       "        text-align: right;\n",
       "    }\n",
       "</style>\n",
       "<table border=\"1\" class=\"dataframe\">\n",
       "  <thead>\n",
       "    <tr style=\"text-align: right;\">\n",
       "      <th></th>\n",
       "      <th>category</th>\n",
       "      <th>scientific_name</th>\n",
       "      <th>common_names</th>\n",
       "      <th>conservation_status</th>\n",
       "    </tr>\n",
       "  </thead>\n",
       "  <tbody>\n",
       "    <tr>\n",
       "      <th>0</th>\n",
       "      <td>Mammal</td>\n",
       "      <td>Clethrionomys gapperi gapperi</td>\n",
       "      <td>Gapper's Red-Backed Vole</td>\n",
       "      <td>NaN</td>\n",
       "    </tr>\n",
       "    <tr>\n",
       "      <th>1</th>\n",
       "      <td>Mammal</td>\n",
       "      <td>Bos bison</td>\n",
       "      <td>American Bison, Bison</td>\n",
       "      <td>NaN</td>\n",
       "    </tr>\n",
       "    <tr>\n",
       "      <th>2</th>\n",
       "      <td>Mammal</td>\n",
       "      <td>Bos taurus</td>\n",
       "      <td>Aurochs, Aurochs, Domestic Cattle (Feral), Dom...</td>\n",
       "      <td>NaN</td>\n",
       "    </tr>\n",
       "    <tr>\n",
       "      <th>3</th>\n",
       "      <td>Mammal</td>\n",
       "      <td>Ovis aries</td>\n",
       "      <td>Domestic Sheep, Mouflon, Red Sheep, Sheep (Feral)</td>\n",
       "      <td>NaN</td>\n",
       "    </tr>\n",
       "    <tr>\n",
       "      <th>4</th>\n",
       "      <td>Mammal</td>\n",
       "      <td>Cervus elaphus</td>\n",
       "      <td>Wapiti Or Elk</td>\n",
       "      <td>NaN</td>\n",
       "    </tr>\n",
       "  </tbody>\n",
       "</table>\n",
       "</div>"
      ],
      "text/plain": [
       "  category                scientific_name  \\\n",
       "0   Mammal  Clethrionomys gapperi gapperi   \n",
       "1   Mammal                      Bos bison   \n",
       "2   Mammal                     Bos taurus   \n",
       "3   Mammal                     Ovis aries   \n",
       "4   Mammal                 Cervus elaphus   \n",
       "\n",
       "                                        common_names conservation_status  \n",
       "0                           Gapper's Red-Backed Vole                 NaN  \n",
       "1                              American Bison, Bison                 NaN  \n",
       "2  Aurochs, Aurochs, Domestic Cattle (Feral), Dom...                 NaN  \n",
       "3  Domestic Sheep, Mouflon, Red Sheep, Sheep (Feral)                 NaN  \n",
       "4                                      Wapiti Or Elk                 NaN  "
      ]
     },
     "execution_count": 218,
     "metadata": {},
     "output_type": "execute_result"
    }
   ],
   "source": [
    "species_info = pd.read_csv('species_info.csv')\n",
    "species_info.head()"
   ]
  },
  {
   "cell_type": "markdown",
   "metadata": {},
   "source": [
    "### Data Charateristics"
   ]
  },
  {
   "cell_type": "code",
   "execution_count": 219,
   "metadata": {},
   "outputs": [
    {
     "name": "stdout",
     "output_type": "stream",
     "text": [
      "observations shape:(23296, 3)\n",
      "species_info:shape:(5824, 4)\n"
     ]
    }
   ],
   "source": [
    "print(f'observations shape:{observations.shape}')\n",
    "print(f'species_info:shape:{species_info.shape}')"
   ]
  },
  {
   "cell_type": "markdown",
   "metadata": {},
   "source": [
    "### SQLite3 set up"
   ]
  },
  {
   "cell_type": "code",
   "execution_count": 220,
   "metadata": {},
   "outputs": [
    {
     "data": {
      "text/plain": [
       "5824"
      ]
     },
     "execution_count": 220,
     "metadata": {},
     "output_type": "execute_result"
    }
   ],
   "source": [
    "conn=sqlite3.connect('mytable.db')\n",
    "observations.to_sql('observations',conn,index=False,if_exists='replace')\n",
    "species_info.to_sql('species_info',conn,index=False,if_exists='replace')"
   ]
  },
  {
   "cell_type": "markdown",
   "metadata": {},
   "source": [
    "## Data Exploration\n",
    "The main purpose of this section is to get a rough idea of the data we have."
   ]
  },
  {
   "cell_type": "markdown",
   "metadata": {},
   "source": [
    "### Number of species observed and national parks investigated in `observations`"
   ]
  },
  {
   "cell_type": "code",
   "execution_count": 221,
   "metadata": {},
   "outputs": [
    {
     "name": "stdout",
     "output_type": "stream",
     "text": [
      "species observed:5541\n",
      "number of national park:4\n"
     ]
    }
   ],
   "source": [
    "print(f'species observed:{len(pd.unique(observations.scientific_name))}') \n",
    "print(f'number of national park:{len(pd.unique(observations.park_name))}') "
   ]
  },
  {
   "cell_type": "markdown",
   "metadata": {},
   "source": [
    "### Total number of observation record in the last 7 days in `observations`"
   ]
  },
  {
   "cell_type": "code",
   "execution_count": 222,
   "metadata": {},
   "outputs": [
    {
     "name": "stdout",
     "output_type": "stream",
     "text": [
      "Total number of observation record:3314739\n"
     ]
    }
   ],
   "source": [
    "print(f'Total number of observation record:{observations.observations.sum()}')"
   ]
  },
  {
   "cell_type": "markdown",
   "metadata": {},
   "source": [
    "### Number of species and category in `species_info`"
   ]
  },
  {
   "cell_type": "code",
   "execution_count": 583,
   "metadata": {},
   "outputs": [
    {
     "data": {
      "text/plain": [
       "category\n",
       "Vascular Plant       4262\n",
       "Bird                  488\n",
       "Nonvascular Plant     333\n",
       "Mammal                176\n",
       "Fish                  125\n",
       "Amphibian              79\n",
       "Reptile                78\n",
       "Name: scientific_name, dtype: int64"
      ]
     },
     "metadata": {},
     "output_type": "display_data"
    },
    {
     "name": "stdout",
     "output_type": "stream",
     "text": [
      "number of species: 5541\n",
      "number of category: 7\n"
     ]
    }
   ],
   "source": [
    "display(species_info.groupby('category')['scientific_name'].nunique().sort_values(ascending=False))\n",
    "print(f'number of species: {species_info.scientific_name.nunique()}')\n",
    "print(f'number of category: {species_info.category.nunique()}')"
   ]
  },
  {
   "cell_type": "markdown",
   "metadata": {},
   "source": [
    "### Number of species in conservation vs not from  `species_info`"
   ]
  },
  {
   "cell_type": "code",
   "execution_count": 581,
   "metadata": {},
   "outputs": [
    {
     "name": "stdout",
     "output_type": "stream",
     "text": [
      "number of species in conservation:179\n",
      "number of species not in conservation:5363\n"
     ]
    }
   ],
   "source": [
    "num_of_con=species_info[species_info['conservation_status']!='No Concern']['scientific_name'].nunique()\n",
    "num_of_non_con=species_info[species_info['conservation_status']=='No Concern']['scientific_name'].nunique()\n",
    "print(f'number of species in conservation:{num_of_con}')\n",
    "print(f'number of species not in conservation:{num_of_non_con}')"
   ]
  },
  {
   "cell_type": "markdown",
   "metadata": {},
   "source": [
    "## Analysis\n",
    "### 1) Distribution of Conservation Status\n",
    "#### 1.1 The number of species in each conservation status"
   ]
  },
  {
   "cell_type": "code",
   "execution_count": 623,
   "metadata": {},
   "outputs": [],
   "source": [
    "# replace NaN with 'No Concern' in order to do calculate number of species of this conservation status\n",
    "species_info['conservation_status']=species_info['conservation_status'].fillna('No Concern',inplace=False)\n",
    "conserve_dis=species_info.groupby('conservation_status')['scientific_name'].nunique()\n",
    "conserve_dis_df=pd.DataFrame({'number_of_species': conserve_dis}).reset_index()\n",
    "conserve_dis_df_1=conserve_dis_df.iloc[[3,0,4,1],:]"
   ]
  },
  {
   "cell_type": "code",
   "execution_count": 625,
   "metadata": {
    "scrolled": true
   },
   "outputs": [
    {
     "data": {
      "image/png": "[encoded data removed]",
      "text/plain": [
       "<Figure size 800x300 with 1 Axes>"
      ]
     },
     "metadata": {},
     "output_type": "display_data"
    }
   ],
   "source": [
    "import matplotlib.pyplot as plt\n",
    "from importlib import reload\n",
    "plt=reload(plt)\n",
    "fig1=plt.figure(figsize=(8,3))\n",
    "sns.barplot(data=conserve_dis_df_1, x='conservation_status',y='number_of_species')\n",
    "plt.xlabel('Conservation Status')\n",
    "plt.ylabel('Number of Species')\n",
    "plt.title('Number of Species in each Conservation Status')\n",
    "plt.show()"
   ]
  },
  {
   "cell_type": "markdown",
   "metadata": {},
   "source": [
    "This bar chart indicates the number of species in each conservation status."
   ]
  },
  {
   "cell_type": "markdown",
   "metadata": {},
   "source": [
    "Here we calculate the number of species for each combination of conservation status and species category."
   ]
  },
  {
   "cell_type": "code",
   "execution_count": 249,
   "metadata": {},
   "outputs": [
    {
     "data": {
      "text/plain": [
       "conservation_status  category         \n",
       "Endangered           Amphibian               1\n",
       "                     Bird                    4\n",
       "                     Fish                    3\n",
       "                     Mammal                  6\n",
       "                     Vascular Plant          1\n",
       "In Recovery          Bird                    3\n",
       "                     Mammal                  1\n",
       "No Concern           Amphibian              72\n",
       "                     Bird                  413\n",
       "                     Fish                  115\n",
       "                     Mammal                146\n",
       "                     Nonvascular Plant     328\n",
       "                     Reptile                73\n",
       "                     Vascular Plant       4216\n",
       "Species of Concern   Amphibian               4\n",
       "                     Bird                   68\n",
       "                     Fish                    4\n",
       "                     Mammal                 22\n",
       "                     Nonvascular Plant       5\n",
       "                     Reptile                 5\n",
       "                     Vascular Plant         43\n",
       "Threatened           Amphibian               2\n",
       "                     Fish                    4\n",
       "                     Mammal                  2\n",
       "                     Vascular Plant          2\n",
       "Name: scientific_name, dtype: int64"
      ]
     },
     "metadata": {},
     "output_type": "display_data"
    }
   ],
   "source": [
    "display(species_info.groupby(['conservation_status','category'])['scientific_name'].nunique())"
   ]
  },
  {
   "cell_type": "markdown",
   "metadata": {},
   "source": [
    "The conservation status of species of concern has the highest number of species, which are mainly birds, vascular plants and mammals."
   ]
  },
  {
   "cell_type": "markdown",
   "metadata": {},
   "source": [
    "#### 1.2 The number of species in each category and its conservation status\n",
    "To understand the number of conserved species in each category and its conservation status, we will first take a look at the total number of conserved species in each category with bar plot."
   ]
  },
  {
   "cell_type": "code",
   "execution_count": 601,
   "metadata": {},
   "outputs": [
    {
     "data": {
      "image/png": "[encoded data removed]",
      "text/plain": [
       "<Figure size 1000x400 with 1 Axes>"
      ]
     },
     "metadata": {},
     "output_type": "display_data"
    }
   ],
   "source": [
    "category_dis_df=pd.read_sql(\n",
    "\"\"\"\n",
    "SELECT category, count(DISTINCT(scientific_name)) AS 'number of species'\n",
    "FROM species_info\n",
    "WHERE conservation_status !='No Concern'\n",
    "GROUP BY category\n",
    "\"\"\",conn)\n",
    "\n",
    "fig2=plt.figure(figsize=(10,4))\n",
    "sns.barplot(x='category',y='number of species',data=category_dis_df)\n",
    "plt.xlabel('Category')\n",
    "plt.ylabel('Number of Species')\n",
    "plt.title('Number of Conserved Species in Different Categories')\n",
    "plt.show()"
   ]
  },
  {
   "cell_type": "markdown",
   "metadata": {},
   "source": [
    "Essentially, this graph explain a similar concept as the previous section, the difference is that now it's categorized with species category.\n",
    "\n",
    "Next, we will pivot category and conservation status to get detailed information."
   ]
  },
  {
   "cell_type": "code",
   "execution_count": 247,
   "metadata": {},
   "outputs": [
    {
     "name": "stderr",
     "output_type": "stream",
     "text": [
      "/var/folders/md/hbrjvx4s3nb147_zj3mhjbth0000gn/T/ipykernel_1196/2769186068.py:3: FutureWarning: Dropping of nuisance columns in DataFrame reductions (with 'numeric_only=None') is deprecated; in a future version this will raise TypeError.  Select only valid columns before calling the reduction.\n",
      "  cat_conserve_pivot['ratio_of_no_concern']=round(cat_conserve_pivot['No Concern']/cat_conserve_pivot.sum(axis=1),2)\n"
     ]
    },
    {
     "data": {
      "text/html": [
       "<div>\n",
       "<style scoped>\n",
       "    .dataframe tbody tr th:only-of-type {\n",
       "        vertical-align: middle;\n",
       "    }\n",
       "\n",
       "    .dataframe tbody tr th {\n",
       "        vertical-align: top;\n",
       "    }\n",
       "\n",
       "    .dataframe thead th {\n",
       "        text-align: right;\n",
       "    }\n",
       "</style>\n",
       "<table border=\"1\" class=\"dataframe\">\n",
       "  <thead>\n",
       "    <tr style=\"text-align: right;\">\n",
       "      <th>conservation_status</th>\n",
       "      <th>category</th>\n",
       "      <th>Endangered</th>\n",
       "      <th>In Recovery</th>\n",
       "      <th>No Concern</th>\n",
       "      <th>Species of Concern</th>\n",
       "      <th>Threatened</th>\n",
       "      <th>ratio_of_no_concern</th>\n",
       "    </tr>\n",
       "  </thead>\n",
       "  <tbody>\n",
       "    <tr>\n",
       "      <th>0</th>\n",
       "      <td>Amphibian</td>\n",
       "      <td>1.0</td>\n",
       "      <td>NaN</td>\n",
       "      <td>72.0</td>\n",
       "      <td>4.0</td>\n",
       "      <td>2.0</td>\n",
       "      <td>0.91</td>\n",
       "    </tr>\n",
       "    <tr>\n",
       "      <th>1</th>\n",
       "      <td>Bird</td>\n",
       "      <td>4.0</td>\n",
       "      <td>3.0</td>\n",
       "      <td>413.0</td>\n",
       "      <td>68.0</td>\n",
       "      <td>NaN</td>\n",
       "      <td>0.85</td>\n",
       "    </tr>\n",
       "    <tr>\n",
       "      <th>2</th>\n",
       "      <td>Fish</td>\n",
       "      <td>3.0</td>\n",
       "      <td>NaN</td>\n",
       "      <td>115.0</td>\n",
       "      <td>4.0</td>\n",
       "      <td>4.0</td>\n",
       "      <td>0.91</td>\n",
       "    </tr>\n",
       "    <tr>\n",
       "      <th>3</th>\n",
       "      <td>Mammal</td>\n",
       "      <td>6.0</td>\n",
       "      <td>1.0</td>\n",
       "      <td>146.0</td>\n",
       "      <td>22.0</td>\n",
       "      <td>2.0</td>\n",
       "      <td>0.82</td>\n",
       "    </tr>\n",
       "    <tr>\n",
       "      <th>4</th>\n",
       "      <td>Nonvascular Plant</td>\n",
       "      <td>NaN</td>\n",
       "      <td>NaN</td>\n",
       "      <td>328.0</td>\n",
       "      <td>5.0</td>\n",
       "      <td>NaN</td>\n",
       "      <td>0.98</td>\n",
       "    </tr>\n",
       "    <tr>\n",
       "      <th>5</th>\n",
       "      <td>Reptile</td>\n",
       "      <td>NaN</td>\n",
       "      <td>NaN</td>\n",
       "      <td>73.0</td>\n",
       "      <td>5.0</td>\n",
       "      <td>NaN</td>\n",
       "      <td>0.94</td>\n",
       "    </tr>\n",
       "    <tr>\n",
       "      <th>6</th>\n",
       "      <td>Vascular Plant</td>\n",
       "      <td>1.0</td>\n",
       "      <td>NaN</td>\n",
       "      <td>4216.0</td>\n",
       "      <td>43.0</td>\n",
       "      <td>2.0</td>\n",
       "      <td>0.99</td>\n",
       "    </tr>\n",
       "  </tbody>\n",
       "</table>\n",
       "</div>"
      ],
      "text/plain": [
       "conservation_status           category  Endangered  In Recovery  No Concern  \\\n",
       "0                            Amphibian         1.0          NaN        72.0   \n",
       "1                                 Bird         4.0          3.0       413.0   \n",
       "2                                 Fish         3.0          NaN       115.0   \n",
       "3                               Mammal         6.0          1.0       146.0   \n",
       "4                    Nonvascular Plant         NaN          NaN       328.0   \n",
       "5                              Reptile         NaN          NaN        73.0   \n",
       "6                       Vascular Plant         1.0          NaN      4216.0   \n",
       "\n",
       "conservation_status  Species of Concern  Threatened  ratio_of_no_concern  \n",
       "0                                   4.0         2.0                 0.91  \n",
       "1                                  68.0         NaN                 0.85  \n",
       "2                                   4.0         4.0                 0.91  \n",
       "3                                  22.0         2.0                 0.82  \n",
       "4                                   5.0         NaN                 0.98  \n",
       "5                                   5.0         NaN                 0.94  \n",
       "6                                  43.0         2.0                 0.99  "
      ]
     },
     "metadata": {},
     "output_type": "display_data"
    }
   ],
   "source": [
    "cat_conserve=species_info.groupby(['category','conservation_status'])['scientific_name'].nunique().reset_index(name='number_of_species')\n",
    "cat_conserve_pivot=cat_conserve.pivot(index='category',columns='conservation_status', values='number_of_species').reset_index()\n",
    "cat_conserve_pivot['ratio_of_no_concern']=round(cat_conserve_pivot['No Concern']/cat_conserve_pivot.sum(axis=1),2)\n",
    "display(cat_conserve_pivot)"
   ]
  },
  {
   "cell_type": "markdown",
   "metadata": {},
   "source": [
    "- The bird category has the highest number of species that require conservational assistance, with most number of species (n=68) labelled as \"species of concern\". Followed by vascular plants, which has 43 species labelled as species of concern.\n",
    "- Despite ranked second in total number of conserved species, the vascular plants has the highest ratio of healthy species, whereas mammals are the category that has the least ratio of species that requires no concern."
   ]
  },
  {
   "cell_type": "markdown",
   "metadata": {},
   "source": [
    "### 2. Difference of Conservation Status among Categories"
   ]
  },
  {
   "cell_type": "markdown",
   "metadata": {},
   "source": [
    "#### One crucial question to answer is that whether different categories have significant different number of species that required conservation. To answer that, we will run Chi-square test in order to understand significant difference between two categories."
   ]
  },
  {
   "cell_type": "code",
   "execution_count": 626,
   "metadata": {},
   "outputs": [],
   "source": [
    "#data preparation\n",
    "category_dis_df.columns=['category','sum_protection']\n",
    "category_dis_df['no_concern']=cat_conserve_pivot['No Concern'].values"
   ]
  },
  {
   "cell_type": "markdown",
   "metadata": {},
   "source": [
    "Let's visualize the the ratio of conserved species in each category by plotting it. The reason why I choose to demonstrate ratio rather than absolute number is due to the fact that the total number of each species category varies greatly."
   ]
  },
  {
   "cell_type": "code",
   "execution_count": 422,
   "metadata": {},
   "outputs": [
    {
     "data": {
      "image/png": "[encoded data removed]",
      "text/plain": [
       "<Figure size 1200x400 with 1 Axes>"
      ]
     },
     "metadata": {},
     "output_type": "display_data"
    }
   ],
   "source": [
    "fig3= plt.figure(figsize=(12,4))\n",
    "sns.barplot(x='category',y='ratio_of_protection',data=category_dis_df)\n",
    "plt.xlabel('Category')\n",
    "plt.ylabel('Ratio of Species under conservation')\n",
    "plt.title('Ratio of Species under Conservation in each Category')\n",
    "plt.show()"
   ]
  },
  {
   "cell_type": "markdown",
   "metadata": {},
   "source": [
    "As we can see in the plot, huge difference in ratio exist. Although it seems significant, it's better to test it out via Chi-square test."
   ]
  },
  {
   "cell_type": "code",
   "execution_count": 230,
   "metadata": {},
   "outputs": [
    {
     "name": "stdout",
     "output_type": "stream",
     "text": [
      "Chi-square value: 426.52931383200115\n",
      "P-value: 5.5108280473137505e-89\n"
     ]
    }
   ],
   "source": [
    "cat_contingency=pd.DataFrame(category_dis_df[['sum_protection','no_concern']])\n",
    "chi2,p_value,_,_ = chi2_contingency(cat_contingency)\n",
    "print(f'Chi-square value: {chi2}')\n",
    "print(f'P-value: {p_value}')"
   ]
  },
  {
   "cell_type": "markdown",
   "metadata": {},
   "source": [
    "The p-value is apparently smaller than 0.05, indicating there is a significant difference. The following section would find out which pair of category has the significant difference."
   ]
  },
  {
   "cell_type": "code",
   "execution_count": 584,
   "metadata": {
    "scrolled": true
   },
   "outputs": [
    {
     "name": "stdout",
     "output_type": "stream",
     "text": [
      "Chi-square value for Mammal vs Reptile: 4.289183096203645\n",
      "P-value: 0.03835559022969898\n",
      "Chi-square value for Mammal vs Nonvascular Plant: 41.0526001992972\n",
      "P-value: 1.481868915759314e-10\n",
      "Chi-square value for Mammal vs Vascular Plant: 246.5870424874456\n",
      "P-value: 1.4405067309854046e-55\n",
      "Chi-square value for Bird vs Nonvascular Plant: 41.717457869992714\n",
      "P-value: 1.0546306904975004e-10\n",
      "Chi-square value for Bird vs Vascular Plant: 354.42332680820607\n",
      "P-value: 4.612268031690143e-79\n",
      "Chi-square value for Amphibian vs Nonvascular Plant: 9.765103711306242\n",
      "P-value: 0.001778554820715609\n",
      "Chi-square value for Amphibian vs Vascular Plant: 32.7572979770742\n",
      "P-value: 1.0441355146657018e-08\n",
      "Chi-square value for Fish vs Nonvascular Plant: 12.13040550073211\n",
      "P-value: 0.0004960633228752838\n",
      "Chi-square value for Fish vs Vascular Plant: 50.065682762850486\n",
      "P-value: 1.486846949188912e-12\n",
      "Chi-square value for Reptile vs Nonvascular Plant: 4.513570089848145\n",
      "P-value: 0.0336269831072617\n",
      "Chi-square value for Reptile vs Vascular Plant: 14.435371140033908\n",
      "P-value: 0.00014505215494675828\n"
     ]
    },
    {
     "name": "stderr",
     "output_type": "stream",
     "text": [
      "/var/folders/md/hbrjvx4s3nb147_zj3mhjbth0000gn/T/ipykernel_1196/976386276.py:2: FutureWarning: Dropping of nuisance columns in DataFrame reductions (with 'numeric_only=None') is deprecated; in a future version this will raise TypeError.  Select only valid columns before calling the reduction.\n",
      "  category_dis_df['ratio_of_protection']=category_dis_df['sum_protection']/category_dis_df.sum(axis=1)\n"
     ]
    }
   ],
   "source": [
    "# perform pairwise chi-square tests\n",
    "category_dis_df['ratio_of_protection']=category_dis_df['sum_protection']/category_dis_df.sum(axis=1)\n",
    "category_dis_df=category_dis_df.sort_values('ratio_of_protection',ascending=False).reset_index(drop=True)\n",
    "categories=category_dis_df['category']\n",
    "\n",
    "for i in range(len(categories)):\n",
    "    for j in range(i + 1, len(categories)):\n",
    "        contingency_table_pairwise = category_dis_df[['sum_protection', 'no_concern']].loc[[i, j]]\n",
    "        chi2, p, _, _ = chi2_contingency(contingency_table_pairwise)\n",
    "        \n",
    "        if p<0.05:\n",
    "            print(f\"Chi-square value for {categories[i]} vs {categories[j]}: {chi2}\")\n",
    "            print(f\"P-value: {p}\")\n",
    "    "
   ]
  },
  {
   "cell_type": "code",
   "execution_count": 585,
   "metadata": {},
   "outputs": [
    {
     "data": {
      "text/html": [
       "<style type=\"text/css\">\n",
       "#T_209e2_row0_col3 {\n",
       "  color: red;\n",
       "}\n",
       "#T_209e2_row1_col3, #T_209e2_row2_col3, #T_209e2_row3_col3, #T_209e2_row4_col3 {\n",
       "  color: black;\n",
       "}\n",
       "#T_209e2_row5_col3, #T_209e2_row6_col3 {\n",
       "  color: green;\n",
       "}\n",
       "</style>\n",
       "<table id=\"T_209e2\">\n",
       "  <thead>\n",
       "    <tr>\n",
       "      <th class=\"blank level0\" >&nbsp;</th>\n",
       "      <th id=\"T_209e2_level0_col0\" class=\"col_heading level0 col0\" >category</th>\n",
       "      <th id=\"T_209e2_level0_col1\" class=\"col_heading level0 col1\" >sum_protection</th>\n",
       "      <th id=\"T_209e2_level0_col2\" class=\"col_heading level0 col2\" >no_concern</th>\n",
       "      <th id=\"T_209e2_level0_col3\" class=\"col_heading level0 col3\" >ratio_of_protection</th>\n",
       "    </tr>\n",
       "  </thead>\n",
       "  <tbody>\n",
       "    <tr>\n",
       "      <th id=\"T_209e2_level0_row0\" class=\"row_heading level0 row0\" >0</th>\n",
       "      <td id=\"T_209e2_row0_col0\" class=\"data row0 col0\" >Mammal</td>\n",
       "      <td id=\"T_209e2_row0_col1\" class=\"data row0 col1\" >30</td>\n",
       "      <td id=\"T_209e2_row0_col2\" class=\"data row0 col2\" >146.000000</td>\n",
       "      <td id=\"T_209e2_row0_col3\" class=\"data row0 col3\" >0.170290</td>\n",
       "    </tr>\n",
       "    <tr>\n",
       "      <th id=\"T_209e2_level0_row1\" class=\"row_heading level0 row1\" >1</th>\n",
       "      <td id=\"T_209e2_row1_col0\" class=\"data row1 col0\" >Bird</td>\n",
       "      <td id=\"T_209e2_row1_col1\" class=\"data row1 col1\" >75</td>\n",
       "      <td id=\"T_209e2_row1_col2\" class=\"data row1 col2\" >413.000000</td>\n",
       "      <td id=\"T_209e2_row1_col3\" class=\"data row1 col3\" >0.153641</td>\n",
       "    </tr>\n",
       "    <tr>\n",
       "      <th id=\"T_209e2_level0_row2\" class=\"row_heading level0 row2\" >2</th>\n",
       "      <td id=\"T_209e2_row2_col0\" class=\"data row2 col0\" >Amphibian</td>\n",
       "      <td id=\"T_209e2_row2_col1\" class=\"data row2 col1\" >7</td>\n",
       "      <td id=\"T_209e2_row2_col2\" class=\"data row2 col2\" >72.000000</td>\n",
       "      <td id=\"T_209e2_row2_col3\" class=\"data row2 col3\" >0.088507</td>\n",
       "    </tr>\n",
       "    <tr>\n",
       "      <th id=\"T_209e2_level0_row3\" class=\"row_heading level0 row3\" >3</th>\n",
       "      <td id=\"T_209e2_row3_col0\" class=\"data row3 col0\" >Fish</td>\n",
       "      <td id=\"T_209e2_row3_col1\" class=\"data row3 col1\" >11</td>\n",
       "      <td id=\"T_209e2_row3_col2\" class=\"data row3 col2\" >115.000000</td>\n",
       "      <td id=\"T_209e2_row3_col3\" class=\"data row3 col3\" >0.087239</td>\n",
       "    </tr>\n",
       "    <tr>\n",
       "      <th id=\"T_209e2_level0_row4\" class=\"row_heading level0 row4\" >4</th>\n",
       "      <td id=\"T_209e2_row4_col0\" class=\"data row4 col0\" >Reptile</td>\n",
       "      <td id=\"T_209e2_row4_col1\" class=\"data row4 col1\" >5</td>\n",
       "      <td id=\"T_209e2_row4_col2\" class=\"data row4 col2\" >73.000000</td>\n",
       "      <td id=\"T_209e2_row4_col3\" class=\"data row4 col3\" >0.064053</td>\n",
       "    </tr>\n",
       "    <tr>\n",
       "      <th id=\"T_209e2_level0_row5\" class=\"row_heading level0 row5\" >5</th>\n",
       "      <td id=\"T_209e2_row5_col0\" class=\"data row5 col0\" >Nonvascular Plant</td>\n",
       "      <td id=\"T_209e2_row5_col1\" class=\"data row5 col1\" >5</td>\n",
       "      <td id=\"T_209e2_row5_col2\" class=\"data row5 col2\" >328.000000</td>\n",
       "      <td id=\"T_209e2_row5_col3\" class=\"data row5 col3\" >0.015014</td>\n",
       "    </tr>\n",
       "    <tr>\n",
       "      <th id=\"T_209e2_level0_row6\" class=\"row_heading level0 row6\" >6</th>\n",
       "      <td id=\"T_209e2_row6_col0\" class=\"data row6 col0\" >Vascular Plant</td>\n",
       "      <td id=\"T_209e2_row6_col1\" class=\"data row6 col1\" >46</td>\n",
       "      <td id=\"T_209e2_row6_col2\" class=\"data row6 col2\" >4216.000000</td>\n",
       "      <td id=\"T_209e2_row6_col3\" class=\"data row6 col3\" >0.010793</td>\n",
       "    </tr>\n",
       "  </tbody>\n",
       "</table>\n"
      ],
      "text/plain": [
       "<pandas.io.formats.style.Styler at 0x7fbffbf19370>"
      ]
     },
     "metadata": {},
     "output_type": "display_data"
    }
   ],
   "source": [
    "def mark_red_and_green(val):\n",
    "    try:\n",
    "        numeric_val = float(val)\n",
    "        if (numeric_val < 0.03) and (type(numeric_val) == float):\n",
    "            color='green'\n",
    "        elif (numeric_val >=0.17) and (type(numeric_val) == float):\n",
    "            color = 'red' \n",
    "        else: color='black'\n",
    "    except (ValueError, TypeError):\n",
    "        color = 'black'\n",
    "    return f'color: {color}'\n",
    "\n",
    "styled_df = category_dis_df.style.applymap(mark_red_and_green, subset=pd.IndexSlice[:, ['ratio_of_protection']])\n",
    "display(styled_df)"
   ]
  },
  {
   "cell_type": "markdown",
   "metadata": {},
   "source": [
    "**Combining this DataFrame with the result of pairwise Chi-square tests, we can see that:**\n",
    "- Both nonvascular plants and vascular plants have significantly lower ratio of conserved species (marked in green) than other categories excepts each other.\n",
    "- In addition to nonvascular plants and vascular plants, mammals have significantly higher ratio of conserved species compared to reptiles as well."
   ]
  },
  {
   "cell_type": "markdown",
   "metadata": {},
   "source": [
    "### 3. Difference of Conservation Status among National Parks"
   ]
  },
  {
   "cell_type": "markdown",
   "metadata": {},
   "source": [
    "**In the previous section, we analyzed based on data from the past. In this section, we will analyze different park's number of species in conservation based on recent data (7 days).**"
   ]
  },
  {
   "cell_type": "markdown",
   "metadata": {},
   "source": [
    "Since `observations` has no information regarding conservation status, we will first merge two DataFrames."
   ]
  },
  {
   "cell_type": "code",
   "execution_count": 323,
   "metadata": {},
   "outputs": [],
   "source": [
    "park_cat=pd.merge(species_info, observations, how='right',left_on='scientific_name',right_on='scientific_name')"
   ]
  },
  {
   "cell_type": "markdown",
   "metadata": {},
   "source": [
    "We will compare the ratio of observed species in conservation by grouping the National Parks to answer the question."
   ]
  },
  {
   "cell_type": "code",
   "execution_count": 430,
   "metadata": {},
   "outputs": [
    {
     "data": {
      "text/html": [
       "<div>\n",
       "<style scoped>\n",
       "    .dataframe tbody tr th:only-of-type {\n",
       "        vertical-align: middle;\n",
       "    }\n",
       "\n",
       "    .dataframe tbody tr th {\n",
       "        vertical-align: top;\n",
       "    }\n",
       "\n",
       "    .dataframe thead th {\n",
       "        text-align: right;\n",
       "    }\n",
       "</style>\n",
       "<table border=\"1\" class=\"dataframe\">\n",
       "  <thead>\n",
       "    <tr style=\"text-align: right;\">\n",
       "      <th></th>\n",
       "      <th>park</th>\n",
       "      <th>number_of_protected_species</th>\n",
       "      <th>number_of_healthy_species</th>\n",
       "      <th>ratio_of_protected_species</th>\n",
       "    </tr>\n",
       "  </thead>\n",
       "  <tbody>\n",
       "    <tr>\n",
       "      <th>0</th>\n",
       "      <td>Bryce National Park</td>\n",
       "      <td>18609</td>\n",
       "      <td>614682</td>\n",
       "      <td>0.029385</td>\n",
       "    </tr>\n",
       "    <tr>\n",
       "      <th>1</th>\n",
       "      <td>Great Smoky Mountains National Park</td>\n",
       "      <td>12816</td>\n",
       "      <td>462047</td>\n",
       "      <td>0.026989</td>\n",
       "    </tr>\n",
       "    <tr>\n",
       "      <th>2</th>\n",
       "      <td>Yellowstone National Park</td>\n",
       "      <td>44583</td>\n",
       "      <td>1543058</td>\n",
       "      <td>0.028081</td>\n",
       "    </tr>\n",
       "    <tr>\n",
       "      <th>3</th>\n",
       "      <td>Yosemite National Park</td>\n",
       "      <td>26913</td>\n",
       "      <td>922539</td>\n",
       "      <td>0.028346</td>\n",
       "    </tr>\n",
       "  </tbody>\n",
       "</table>\n",
       "</div>"
      ],
      "text/plain": [
       "                                  park  number_of_protected_species  \\\n",
       "0                  Bryce National Park                        18609   \n",
       "1  Great Smoky Mountains National Park                        12816   \n",
       "2            Yellowstone National Park                        44583   \n",
       "3               Yosemite National Park                        26913   \n",
       "\n",
       "   number_of_healthy_species  ratio_of_protected_species  \n",
       "0                     614682                    0.029385  \n",
       "1                     462047                    0.026989  \n",
       "2                    1543058                    0.028081  \n",
       "3                     922539                    0.028346  "
      ]
     },
     "metadata": {},
     "output_type": "display_data"
    },
    {
     "data": {
      "image/png": "[encoded data removed]",
      "text/plain": [
       "<Figure size 1200x400 with 1 Axes>"
      ]
     },
     "metadata": {},
     "output_type": "display_data"
    }
   ],
   "source": [
    "park_con_pro=pd.DataFrame()\n",
    "park_con_pro=park_cat[park_cat['conservation_status']!= 'No Concern'].groupby('park_name')['observations'].agg(['sum']).reset_index()\n",
    "park_con_pro.columns=['park','number_of_protected_species']\n",
    "park_con_healthy=pd.DataFrame()\n",
    "park_con_healthy=park_cat[park_cat['conservation_status']== 'No Concern'].groupby('park_name')['observations'].agg(['sum']).reset_index()\n",
    "park_con_healthy.columns=['park','number_of_healthy_species']\n",
    "park_con_diff=pd.merge(park_con_pro,park_con_healthy,how='inner',on='park')\n",
    "park_con_diff['ratio_of_protected_species']=park_con_diff['number_of_protected_species']/park_con_diff[['number_of_protected_species','number_of_healthy_species']].sum(axis=1)\n",
    "display(park_con_diff)\n",
    "\n",
    "fig4=plt.figure(figsize=(12,4))\n",
    "sns.barplot(data=park_con_diff,x='park',y='ratio_of_protected_species')\n",
    "plt.xlabel('National Parks')\n",
    "plt.ylabel('Ratio of Conserved Species in all Observations')\n",
    "plt.title('The Ratio of Conserved Species in all Observations across National Parks')\n",
    "plt.ylim(0.02,0.03)\n",
    "plt.show()"
   ]
  },
  {
   "cell_type": "markdown",
   "metadata": {},
   "source": [
    "Despite there were more conserved species spotted in Yellowstone National Park, it looks like Bryce National Park has the highest percentage of conserved species observed."
   ]
  },
  {
   "cell_type": "markdown",
   "metadata": {},
   "source": [
    "The significance of the difference will be investigated in this section"
   ]
  },
  {
   "cell_type": "code",
   "execution_count": 393,
   "metadata": {},
   "outputs": [
    {
     "name": "stdout",
     "output_type": "stream",
     "text": [
      "59.17298979164576 8.829012898880754e-13\n"
     ]
    }
   ],
   "source": [
    "contingency_table_2 = park_con_diff.iloc[:,1:3]\n",
    "chi2,p_value,_,_=chi2_contingency(contingency_table_2)\n",
    "print(chi2,p_value)"
   ]
  },
  {
   "cell_type": "markdown",
   "metadata": {},
   "source": [
    "So there is significant difference, but which pair of comparison does it lie in?"
   ]
  },
  {
   "cell_type": "code",
   "execution_count": 394,
   "metadata": {},
   "outputs": [
    {
     "name": "stdout",
     "output_type": "stream",
     "text": [
      "Chi-square value for Great Smoky Mountains National Park vs Yosemite National Park: 56.4427354603241\n",
      "P-value: 5.785909124691115e-14\n",
      "Chi-square value for Great Smoky Mountains National Park vs Bryce National Park: 27.77083685470699\n",
      "P-value: 1.3656932240949637e-07\n",
      "Chi-square value for Great Smoky Mountains National Park vs Yellowstone National Park: 14.637518824857047\n",
      "P-value: 0.00013029462359066287\n",
      "Chi-square value for Yosemite National Park vs Bryce National Park: 16.083766615316705\n",
      "P-value: 6.060129626120777e-05\n",
      "Chi-square value for Yosemite National Park vs Yellowstone National Park: 21.446685271211543\n",
      "P-value: 3.6380438824173627e-06\n"
     ]
    }
   ],
   "source": [
    "parks=observations['park_name'].unique()\n",
    "for i in range(len(parks)):\n",
    "    for j in range(i + 1, len(parks)):\n",
    "        contingency_table_pairwise = park_con_diff[['number_of_protected_species', 'number_of_healthy_species']].loc[[i, j]]\n",
    "        chi2, p, _, _ = chi2_contingency(contingency_table_pairwise)\n",
    "        \n",
    "        if p<0.05:\n",
    "            print(f\"Chi-square value for {parks[i]} vs {parks[j]}: {chi2}\")\n",
    "            print(f\"P-value: {p}\")"
   ]
  },
  {
   "cell_type": "markdown",
   "metadata": {},
   "source": [
    "**The result of Chi-square test shows us:**\n",
    "- Great Smoky Mountains has significantly lower rate of conserved species spotted compared to other National Parks.\n",
    "- Bryce National Park has signifcantly higher percentage compared others except Yellowstone National Park."
   ]
  },
  {
   "cell_type": "markdown",
   "metadata": {},
   "source": [
    "Now we know the difference in total number and ratio of conserved species, what about individual conservation status?\n",
    "To answer this question, we can start by looking at each park's observation in conservation statuses."
   ]
  },
  {
   "cell_type": "code",
   "execution_count": 588,
   "metadata": {},
   "outputs": [
    {
     "data": {
      "text/html": [
       "<div>\n",
       "<style scoped>\n",
       "    .dataframe tbody tr th:only-of-type {\n",
       "        vertical-align: middle;\n",
       "    }\n",
       "\n",
       "    .dataframe tbody tr th {\n",
       "        vertical-align: top;\n",
       "    }\n",
       "\n",
       "    .dataframe thead th {\n",
       "        text-align: right;\n",
       "    }\n",
       "</style>\n",
       "<table border=\"1\" class=\"dataframe\">\n",
       "  <thead>\n",
       "    <tr style=\"text-align: right;\">\n",
       "      <th>conservation_status</th>\n",
       "      <th>Endangered</th>\n",
       "      <th>In Recovery</th>\n",
       "      <th>No Concern</th>\n",
       "      <th>Species of Concern</th>\n",
       "      <th>Threatened</th>\n",
       "    </tr>\n",
       "    <tr>\n",
       "      <th>park_name</th>\n",
       "      <th></th>\n",
       "      <th></th>\n",
       "      <th></th>\n",
       "      <th></th>\n",
       "      <th></th>\n",
       "    </tr>\n",
       "  </thead>\n",
       "  <tbody>\n",
       "    <tr>\n",
       "      <th>Bryce National Park</th>\n",
       "      <td>0.000977</td>\n",
       "      <td>0.000613</td>\n",
       "      <td>0.970615</td>\n",
       "      <td>0.026861</td>\n",
       "      <td>0.000933</td>\n",
       "    </tr>\n",
       "    <tr>\n",
       "      <th>Great Smoky Mountains National Park</th>\n",
       "      <td>0.000828</td>\n",
       "      <td>0.000522</td>\n",
       "      <td>0.973011</td>\n",
       "      <td>0.024712</td>\n",
       "      <td>0.000927</td>\n",
       "    </tr>\n",
       "    <tr>\n",
       "      <th>Yellowstone National Park</th>\n",
       "      <td>0.000981</td>\n",
       "      <td>0.000560</td>\n",
       "      <td>0.971919</td>\n",
       "      <td>0.025621</td>\n",
       "      <td>0.000919</td>\n",
       "    </tr>\n",
       "    <tr>\n",
       "      <th>Yosemite National Park</th>\n",
       "      <td>0.000993</td>\n",
       "      <td>0.000613</td>\n",
       "      <td>0.971654</td>\n",
       "      <td>0.025845</td>\n",
       "      <td>0.000894</td>\n",
       "    </tr>\n",
       "  </tbody>\n",
       "</table>\n",
       "</div>"
      ],
      "text/plain": [
       "conservation_status                  Endangered  In Recovery  No Concern  \\\n",
       "park_name                                                                  \n",
       "Bryce National Park                    0.000977     0.000613    0.970615   \n",
       "Great Smoky Mountains National Park    0.000828     0.000522    0.973011   \n",
       "Yellowstone National Park              0.000981     0.000560    0.971919   \n",
       "Yosemite National Park                 0.000993     0.000613    0.971654   \n",
       "\n",
       "conservation_status                  Species of Concern  Threatened  \n",
       "park_name                                                            \n",
       "Bryce National Park                            0.026861    0.000933  \n",
       "Great Smoky Mountains National Park            0.024712    0.000927  \n",
       "Yellowstone National Park                      0.025621    0.000919  \n",
       "Yosemite National Park                         0.025845    0.000894  "
      ]
     },
     "metadata": {},
     "output_type": "display_data"
    }
   ],
   "source": [
    "park_cat_group=park_cat.groupby(['park_name','conservation_status'])['observations'].sum().reset_index()\n",
    "park_cat_total = park_cat_group.groupby('park_name')['observations'].agg(['sum']).reset_index()\n",
    "park_cat_group = pd.merge(park_cat_group, park_cat_total, on='park_name')\n",
    "park_cat_group['ratio_of_protected_species']=park_cat_group['observations']/park_cat_group['sum']\n",
    "display(park_cat_group.pivot(index='park_name',columns='conservation_status', values='ratio_of_protected_species'))"
   ]
  },
  {
   "cell_type": "markdown",
   "metadata": {},
   "source": [
    "It's difficult to find a trend given the numbers were very similar in each conservation status. Hence, let's directly run the pairwise Chi-square test to find out is there any significant difference between National Parks."
   ]
  },
  {
   "cell_type": "code",
   "execution_count": 354,
   "metadata": {
    "scrolled": true
   },
   "outputs": [
    {
     "name": "stdout",
     "output_type": "stream",
     "text": [
      "Chi-square value for Bryce National Park vs Great Smoky Mountains National Park in conservation status of No Concern: 56.4427354603241\n",
      "P-value: 5.785909124691115e-14\n",
      "Chi-square value for Bryce National Park vs Yellowstone National Park in conservation status of No Concern: 27.77083685470699\n",
      "P-value: 1.3656932240949637e-07\n",
      "Chi-square value for Bryce National Park vs Yosemite National Park in conservation status of No Concern: 14.637518824857047\n",
      "P-value: 0.00013029462359066287\n",
      "Chi-square value for Great Smoky Mountains National Park vs Yellowstone National Park in conservation status of No Concern: 16.083766615316705\n",
      "P-value: 6.060129626120777e-05\n",
      "Chi-square value for Great Smoky Mountains National Park vs Yosemite National Park in conservation status of No Concern: 21.446685271211543\n",
      "P-value: 3.6380438824173627e-06\n",
      "Chi-square value for Bryce National Park vs Great Smoky Mountains National Park in conservation status of Species of Concern: 49.509363978203936\n",
      "P-value: 1.974271347902114e-12\n",
      "Chi-square value for Bryce National Park vs Yellowstone National Park in conservation status of Species of Concern: 27.474886266359928\n",
      "P-value: 1.5914772243197454e-07\n",
      "Chi-square value for Bryce National Park vs Yosemite National Park in conservation status of Species of Concern: 15.296009585245043\n",
      "P-value: 9.191046193459678e-05\n",
      "Chi-square value for Great Smoky Mountains National Park vs Yellowstone National Park in conservation status of Species of Concern: 12.1491139238452\n",
      "P-value: 0.0004911119144300596\n",
      "Chi-square value for Great Smoky Mountains National Park vs Yosemite National Park in conservation status of Species of Concern: 16.327952121815972\n",
      "P-value: 5.327233642788262e-05\n",
      "Chi-square value for Bryce National Park vs Great Smoky Mountains National Park in conservation status of Endangered: 6.513560711135589\n",
      "P-value: 0.010705493170049143\n",
      "Chi-square value for Great Smoky Mountains National Park vs Yellowstone National Park in conservation status of Endangered: 8.978190012658668\n",
      "P-value: 0.002732211585689908\n",
      "Chi-square value for Great Smoky Mountains National Park vs Yosemite National Park in conservation status of Endangered: 9.087084079740317\n",
      "P-value: 0.002574209694906251\n",
      "Chi-square value for Great Smoky Mountains National Park vs Yosemite National Park in conservation status of In Recovery: 4.319728397593724\n",
      "P-value: 0.037672934824861566\n"
     ]
    }
   ],
   "source": [
    "from itertools import combinations\n",
    "\n",
    "con_status=species_info['conservation_status'].unique()\n",
    "\n",
    "for status in con_status:\n",
    "    subset=park_cat_group[park_cat_group['conservation_status'] == status]\n",
    "    park_combinations = list(combinations(subset['park_name'], 2))\n",
    "    for park1, park2 in park_combinations:\n",
    "        obs_park1=subset.loc[subset['park_name']==park1,'observations'].values[0]\n",
    "        obs_park2=subset.loc[subset['park_name']==park2,'observations'].values[0]\n",
    "        sum_park1=subset.loc[subset['park_name']==park1,'sum'].values[0]\n",
    "        sum_park2=subset.loc[subset['park_name']==park2,'sum'].values[0]\n",
    "        contingency_table2 = [[obs_park1, sum_park1-obs_park1], [obs_park2,sum_park2-obs_park2]]\n",
    "        chi2, p, _, _ = chi2_contingency(contingency_table2)\n",
    "        \n",
    "        if p<0.05:\n",
    "            print(f\"Chi-square value for {park1} vs {park2} in conservation status of {status}: {chi2}\")\n",
    "            print(f\"P-value: {p}\")"
   ]
  },
  {
   "cell_type": "markdown",
   "metadata": {},
   "source": [
    "Turns out numbers of National Park combination possess significant difference in conservation status.Let's break it down by examine each conservation status:\n",
    "\n",
    "- **Endangered**: Great Smoky National Park has significantly the lowest ratio of endangered species observed compared to others.\n",
    "- **Species of Concern**: Bryce National Park has the highest ratio of species of concern spotted with significant difference. Great Smoky National Park has the least percentage with significant difference.\n",
    "- **In Recovery**: Great Smoky National Park has lower ratio of species in recovery recorded compared to Yosemite National Park.\n",
    "- **No Concern**: Great Smoky National Park has the greatest percentage of unprotected species observed, whereas Bryce National Park has the smallest."
   ]
  },
  {
   "cell_type": "markdown",
   "metadata": {},
   "source": [
    "### 4. Identify Species that Potentially Need Conservation."
   ]
  },
  {
   "cell_type": "markdown",
   "metadata": {},
   "source": [
    "**In this section, we will try to find out species that are currently labelled as 'No Concern', but could possibly be 'Species of Concern' in the future.**"
   ]
  },
  {
   "cell_type": "markdown",
   "metadata": {},
   "source": [
    "Firstly, let's plot the observations of species by conservation status with box plot to see the distribution."
   ]
  },
  {
   "cell_type": "code",
   "execution_count": 410,
   "metadata": {},
   "outputs": [
    {
     "data": {
      "image/png": "[encoded data removed]",
      "text/plain": [
       "<Figure size 800x400 with 1 Axes>"
      ]
     },
     "metadata": {},
     "output_type": "display_data"
    }
   ],
   "source": [
    "fig5=plt.figure(figsize=(8,4))\n",
    "sns.boxplot(data=park_cat,x='conservation_status',y='observations')\n",
    "plt.show()"
   ]
  },
  {
   "cell_type": "markdown",
   "metadata": {},
   "source": [
    "As we can see, the lower whisker of 'No Concern' is actually lower than other conservation status', indicating that some species despite categorized as 'No Concern', might actually has lower probability to be spotted."
   ]
  },
  {
   "cell_type": "markdown",
   "metadata": {},
   "source": [
    "In order to find out unprotected species that has extremly low observations, we will use z-score with a threshold of -2 to determine it."
   ]
  },
  {
   "cell_type": "code",
   "execution_count": 550,
   "metadata": {},
   "outputs": [],
   "source": [
    "unprotected_low_obs=pd.DataFrame()\n",
    "for park in parks:\n",
    "    subset=park_cat.loc[(park_cat['park_name']==park) & (park_cat['conservation_status']=='No Concern')].copy()\n",
    "    subset['z-score']=(subset['observations']-subset['observations'].mean())/subset['observations'].std()\n",
    "    unprotected_low_obs = pd.concat([unprotected_low_obs,(subset.loc[subset['z-score'] <= -2])])"
   ]
  },
  {
   "cell_type": "code",
   "execution_count": 544,
   "metadata": {},
   "outputs": [
    {
     "data": {
      "text/html": [
       "<div>\n",
       "<style scoped>\n",
       "    .dataframe tbody tr th:only-of-type {\n",
       "        vertical-align: middle;\n",
       "    }\n",
       "\n",
       "    .dataframe tbody tr th {\n",
       "        vertical-align: top;\n",
       "    }\n",
       "\n",
       "    .dataframe thead th {\n",
       "        text-align: right;\n",
       "    }\n",
       "</style>\n",
       "<table border=\"1\" class=\"dataframe\">\n",
       "  <thead>\n",
       "    <tr style=\"text-align: right;\">\n",
       "      <th>category</th>\n",
       "      <th>Amphibian</th>\n",
       "      <th>Bird</th>\n",
       "      <th>Fish</th>\n",
       "      <th>Mammal</th>\n",
       "      <th>Nonvascular Plant</th>\n",
       "      <th>Reptile</th>\n",
       "      <th>Vascular Plant</th>\n",
       "      <th>total</th>\n",
       "    </tr>\n",
       "    <tr>\n",
       "      <th>park_name</th>\n",
       "      <th></th>\n",
       "      <th></th>\n",
       "      <th></th>\n",
       "      <th></th>\n",
       "      <th></th>\n",
       "      <th></th>\n",
       "      <th></th>\n",
       "      <th></th>\n",
       "    </tr>\n",
       "  </thead>\n",
       "  <tbody>\n",
       "    <tr>\n",
       "      <th>Bryce National Park</th>\n",
       "      <td>3.0</td>\n",
       "      <td>5.0</td>\n",
       "      <td>NaN</td>\n",
       "      <td>8.0</td>\n",
       "      <td>10.0</td>\n",
       "      <td>NaN</td>\n",
       "      <td>113.0</td>\n",
       "      <td>139.0</td>\n",
       "    </tr>\n",
       "    <tr>\n",
       "      <th>Great Smoky Mountains National Park</th>\n",
       "      <td>NaN</td>\n",
       "      <td>12.0</td>\n",
       "      <td>3.0</td>\n",
       "      <td>5.0</td>\n",
       "      <td>6.0</td>\n",
       "      <td>1.0</td>\n",
       "      <td>102.0</td>\n",
       "      <td>129.0</td>\n",
       "    </tr>\n",
       "    <tr>\n",
       "      <th>Yellowstone National Park</th>\n",
       "      <td>3.0</td>\n",
       "      <td>10.0</td>\n",
       "      <td>2.0</td>\n",
       "      <td>11.0</td>\n",
       "      <td>6.0</td>\n",
       "      <td>1.0</td>\n",
       "      <td>105.0</td>\n",
       "      <td>138.0</td>\n",
       "    </tr>\n",
       "    <tr>\n",
       "      <th>Yosemite National Park</th>\n",
       "      <td>2.0</td>\n",
       "      <td>12.0</td>\n",
       "      <td>3.0</td>\n",
       "      <td>3.0</td>\n",
       "      <td>4.0</td>\n",
       "      <td>3.0</td>\n",
       "      <td>99.0</td>\n",
       "      <td>126.0</td>\n",
       "    </tr>\n",
       "  </tbody>\n",
       "</table>\n",
       "</div>"
      ],
      "text/plain": [
       "category                             Amphibian  Bird  Fish  Mammal  \\\n",
       "park_name                                                            \n",
       "Bryce National Park                        3.0   5.0   NaN     8.0   \n",
       "Great Smoky Mountains National Park        NaN  12.0   3.0     5.0   \n",
       "Yellowstone National Park                  3.0  10.0   2.0    11.0   \n",
       "Yosemite National Park                     2.0  12.0   3.0     3.0   \n",
       "\n",
       "category                             Nonvascular Plant  Reptile  \\\n",
       "park_name                                                         \n",
       "Bryce National Park                               10.0      NaN   \n",
       "Great Smoky Mountains National Park                6.0      1.0   \n",
       "Yellowstone National Park                          6.0      1.0   \n",
       "Yosemite National Park                             4.0      3.0   \n",
       "\n",
       "category                             Vascular Plant  total  \n",
       "park_name                                                   \n",
       "Bryce National Park                           113.0  139.0  \n",
       "Great Smoky Mountains National Park           102.0  129.0  \n",
       "Yellowstone National Park                     105.0  138.0  \n",
       "Yosemite National Park                         99.0  126.0  "
      ]
     },
     "metadata": {},
     "output_type": "display_data"
    }
   ],
   "source": [
    "unprotected_low_obs_group=unprotected_low_obs.groupby(['park_name','category'])['scientific_name'].count().reset_index(name='count')\n",
    "\n",
    "unprotected_low_obs_group_pivot=unprotected_low_obs_group.pivot(index='park_name',columns='category',values='count')\n",
    "unprotected_low_obs_group_pivot['total']=unprotected_low_obs_group_pivot.sum(axis=1)\n",
    "unprotected_low_obs_group_pivot\n",
    "display(unprotected_low_obs_group_pivot)"
   ]
  },
  {
   "cell_type": "markdown",
   "metadata": {},
   "source": [
    "This table indicates the number of potential species of concern in each species category and National Park."
   ]
  },
  {
   "cell_type": "markdown",
   "metadata": {},
   "source": [
    "**The result of z-score examination tells us:**\n",
    "- Yosemite National Park has the least number of potential species of concern. \n",
    "- Vascular plants are the majority of potential species of concern.\n",
    "- The list of potential species of concern is included in `unprotected_low_obs`."
   ]
  },
  {
   "cell_type": "markdown",
   "metadata": {},
   "source": [
    "## Conclusions\n",
    "This project was aimed to make visulisation and inferential analysis about the various species located in the four National Parks.\n",
    "\n",
    "The analysis of this project was dedicated to answer the following questions:\n",
    "- What is the distribution of conservation status for species and category?\n",
    "    - Most of the species in `species_info` are not in conservation (5,363 vs 179).\n",
    "    - Most of the conserved species are from the vascular plant category (n = 4,262), followed by bird (n = 488) and nonvascular plant (n = 333).\n",
    "- Which cateogry of species has more species in conservation?\n",
    "    - The bird category has the most number of conserved species (n = 75) and mammals have the highest ratio (17%).\n",
    "    - Both vascular plants and nonvascular plants have significantly lower ratio of species in conservation.\n",
    "- Which National Park has more species in conservation?\n",
    "    - Bryce National Park has the significantly highest ratio of total number of conserved species and species of concern. \n",
    "    - Great Smoky National Park has the least number of total conserved species number, endangered species and species of concern observed in the last 7 days, making it the National Park that require the most attention for biodiversity maintenance.\n",
    "- What are the species that can potentially be labelled as species of concern in the future?\n",
    "    - Yosemite National Park has the most number of species that might become species of concern.\n",
    "    - Vascular plants require the most additional attention to prevent them from turning into species of concern."
   ]
  },
  {
   "cell_type": "markdown",
   "metadata": {},
   "source": [
    "## Further Research\n",
    "The dataset we have only include observations from the last 7 days, it would be more meaningful if we have data from the last 30 days or more with timestamp. That way we can observe changes in number of conserved species. In addition, as National Parks have different size, it would be better if size of National Park is given so as to analyze density of species."
   ]
  }
 ],
 "metadata": {
  "kernelspec": {
   "display_name": "Python 3 (ipykernel)",
   "language": "python",
   "name": "python3"
  },
  "language_info": {
   "codemirror_mode": {
    "name": "ipython",
    "version": 3
   },
   "file_extension": ".py",
   "mimetype": "text/x-python",
   "name": "python",
   "nbconvert_exporter": "python",
   "pygments_lexer": "ipython3",
   "version": "3.9.13"
  }
 },
 "nbformat": 4,
 "nbformat_minor": 4
}
